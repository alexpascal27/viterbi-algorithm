{
 "cells": [
  {
   "cell_type": "markdown",
   "metadata": {
    "collapsed": true,
    "pycharm": {
     "name": "#%% md\n"
    }
   },
   "source": [
    "# Hidden Markov Models - Viterbi algorithm"
   ]
  },
  {
   "cell_type": "code",
   "execution_count": 1,
   "metadata": {
    "pycharm": {
     "name": "#%%\n"
    }
   },
   "outputs": [
    {
     "name": "stdout",
     "output_type": "stream",
     "text": [
      "\n",
      "P_L(G, 1) = e_L(G):{-2.322} + max((P_L(G, 0){-3.322} + P_LL{-0.737}):{-4.059}, (P_H(G, 0){-2.737} + P_HL{-1.0}):{-3.737}, ):{-3.737}\n",
      "\n",
      "\n",
      "P_H(G, 1) = e_H(G):{-1.737} + max((P_L(G, 0){-3.322} + P_LH{-1.322}):{-4.644}, (P_H(G, 0){-2.737} + P_HH{-1.0}):{-3.737}, ):{-3.737}\n",
      "\n",
      "\n",
      "P_L(C, 2) = e_L(C):{-2.322} + max((P_L(C, 1){-6.059} + P_LL{-0.737}):{-6.796}, (P_H(C, 1){-5.474} + P_HL{-1.0}):{-6.474}, ):{-6.474}\n",
      "\n",
      "\n",
      "P_H(C, 2) = e_H(C):{-1.737} + max((P_L(C, 1){-6.059} + P_LH{-1.322}):{-7.381}, (P_H(C, 1){-5.474} + P_HH{-1.0}):{-6.474}, ):{-6.474}\n",
      "\n",
      "\n",
      "P_L(A, 3) = e_L(A):{-1.737} + max((P_L(A, 2){-8.796} + P_LL{-0.737}):{-9.533}, (P_H(A, 2){-8.211} + P_HL{-1.0}):{-9.211}, ):{-9.211}\n",
      "\n",
      "\n",
      "P_H(A, 3) = e_H(A):{-2.322} + max((P_L(A, 2){-8.796} + P_LH{-1.322}):{-10.117999999999999}, (P_H(A, 2){-8.211} + P_HH{-1.0}):{-9.211}, ):{-9.211}\n",
      "\n",
      "\n",
      "P_L(C, 4) = e_L(C):{-2.322} + max((P_L(C, 3){-10.948} + P_LL{-0.737}):{-11.685}, (P_H(C, 3){-11.533000000000001} + P_HL{-1.0}):{-12.533000000000001}, ):{-11.685}\n",
      "\n",
      "\n",
      "P_H(C, 4) = e_H(C):{-1.737} + max((P_L(C, 3){-10.948} + P_LH{-1.322}):{-12.27}, (P_H(C, 3){-11.533000000000001} + P_HH{-1.0}):{-12.533000000000001}, ):{-12.27}\n",
      "\n",
      "\n",
      "P_L(T, 5) = e_L(T):{-1.737} + max((P_L(T, 4){-14.007000000000001} + P_LL{-0.737}):{-14.744000000000002}, (P_H(T, 4){-14.007} + P_HL{-1.0}):{-15.007}, ):{-14.744000000000002}\n",
      "\n",
      "\n",
      "P_H(T, 5) = e_H(T):{-2.322} + max((P_L(T, 4){-14.007000000000001} + P_LH{-1.322}):{-15.329}, (P_H(T, 4){-14.007} + P_HH{-1.0}):{-15.007}, ):{-15.007}\n",
      "\n",
      "\n",
      "P_L(G, 6) = e_L(G):{-2.322} + max((P_L(G, 5){-16.481} + P_LL{-0.737}):{-17.218}, (P_H(G, 5){-17.329} + P_HL{-1.0}):{-18.329}, ):{-17.218}\n",
      "\n",
      "\n",
      "P_H(G, 6) = e_H(G):{-1.737} + max((P_L(G, 5){-16.481} + P_LH{-1.322}):{-17.803}, (P_H(G, 5){-17.329} + P_HH{-1.0}):{-18.329}, ):{-17.803}\n",
      "\n",
      "\n",
      "P_L(A, 7) = e_L(A):{-1.737} + max((P_L(A, 6){-19.54} + P_LL{-0.737}):{-20.276999999999997}, (P_H(A, 6){-19.54} + P_HL{-1.0}):{-20.54}, ):{-20.276999999999997}\n",
      "\n",
      "\n",
      "P_H(A, 7) = e_H(A):{-2.322} + max((P_L(A, 6){-19.54} + P_LH{-1.322}):{-20.862}, (P_H(A, 6){-19.54} + P_HH{-1.0}):{-20.54}, ):{-20.54}\n",
      "\n",
      "\n",
      "P_L(A, 8) = e_L(A):{-1.737} + max((P_L(A, 7){-22.013999999999996} + P_LL{-0.737}):{-22.750999999999994}(P_H(A, 7){-22.862} + P_HL{-1.0}):{-23.862}):{-22.750999999999994}\n",
      "\n",
      "\n",
      "P_H(A, 8) = e_H(A):{-2.322} + max((P_L(A, 7){-22.013999999999996} + P_LH{-1.322}):{-23.335999999999995}(P_H(A, 7){-22.862} + P_HH{-1.0}):{-23.862}):{-23.335999999999995}\n",
      "\n"
     ]
    }
   ],
   "source": [
    "import numpy as np\n",
    "from Viterbi import Viterbi\n",
    "\n",
    "S = ['L', 'H']\n",
    "T = np.array([[-0.737, -1.322], [-1, -1]])\n",
    "pi = np.array([-1,-1])\n",
    "Sigma = ['A', 'C', 'G', 'T']\n",
    "E = np.array([[-1.737, -2.322, -2.322, -1.737], [-2.322, -1.737, -1.737, -2.322]])\n",
    "\n",
    "viterbi = Viterbi(S, T, pi, Sigma, E)\n",
    "viterbi.comprehend_sequence([2, 2, 1, 0, 1, 3, 2, 0, 0], [-3.322, -2.737])"
   ]
  },
  {
   "cell_type": "code",
   "execution_count": 2,
   "metadata": {
    "pycharm": {
     "name": "#%%\n"
    }
   },
   "outputs": [
    {
     "name": "stdout",
     "output_type": "stream",
     "text": [
      "[[ -3.322  -6.059  -8.796 -10.948 -14.007 -16.481 -19.54  -22.014 -24.488]\n",
      " [ -2.737  -5.474  -8.211 -11.533 -14.007 -17.329 -19.54  -22.862 -25.658]]\n"
     ]
    }
   ],
   "source": [
    "values_calculated = viterbi.calculated_values\n",
    "print(values_calculated)"
   ]
  },
  {
   "cell_type": "code",
   "execution_count": 3,
   "metadata": {
    "pycharm": {
     "name": "#%%\n"
    }
   },
   "outputs": [],
   "source": [
    "#decisions_made = viterbi.get_decisions_made()"
   ]
  },
  {
   "cell_type": "code",
   "execution_count": 4,
   "metadata": {
    "pycharm": {
     "name": "#%%\n"
    }
   },
   "outputs": [
    {
     "name": "stdout",
     "output_type": "stream",
     "text": [
      "[[b'H' b'H' b'H' b'H' b'L' b'H' b'L' b'H' b'L']]\n"
     ]
    }
   ],
   "source": [
    "most_probable_path = viterbi.sequence\n",
    "print(most_probable_path)"
   ]
  }
 ],
 "metadata": {
  "kernelspec": {
   "display_name": "Python 3",
   "language": "python",
   "name": "python3"
  },
  "language_info": {
   "codemirror_mode": {
    "name": "ipython",
    "version": 3
   },
   "file_extension": ".py",
   "mimetype": "text/x-python",
   "name": "python",
   "nbconvert_exporter": "python",
   "pygments_lexer": "ipython3",
   "version": "3.8.5"
  }
 },
 "nbformat": 4,
 "nbformat_minor": 1
}
