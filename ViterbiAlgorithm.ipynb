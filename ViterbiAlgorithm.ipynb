{
 "cells": [
  {
   "cell_type": "markdown",
   "metadata": {
    "collapsed": true,
    "pycharm": {
     "name": "#%% md\n"
    }
   },
   "source": [
    "# Hidden Markov Models - Viterbi algorithm"
   ]
  },
  {
   "cell_type": "code",
   "execution_count": 1,
   "metadata": {
    "pycharm": {
     "name": "#%%\n"
    }
   },
   "outputs": [],
   "source": [
    "import numpy as np\n",
    "from Viterbi import Viterbi\n",
    "\n",
    "S = ['L', 'H']\n",
    "T = np.array([[-0.737, -1.322], [-1, -1]])\n",
    "pi = np.array([-1,-1])\n",
    "Sigma = ['A', 'C', 'G', 'T']\n",
    "E = np.array([[-1.737, -2.322, -2.322, -1.737], [-2.322, -1.737, -1.737, -2.322]])\n",
    "\n",
    "viterbi = Viterbi(S, T, pi, Sigma, E)\n",
    "viterbi.comprehend_sequence([2, 2, 1, 0, 1, 3, 2, 0, 0], [-3.322, -2.737])"
   ]
  },
  {
   "cell_type": "code",
   "execution_count": 2,
   "metadata": {
    "pycharm": {
     "name": "#%%\n"
    },
    "scrolled": false
   },
   "outputs": [
    {
     "name": "stdout",
     "output_type": "stream",
     "text": [
      "[[ -3.322  -6.059  -8.796 -10.948 -14.007 -16.481 -19.54  -22.014 -24.488]\n",
      " [ -2.737  -5.474  -8.211 -11.533 -14.007 -17.329 -19.54  -22.862 -25.658]]\n"
     ]
    }
   ],
   "source": [
    "values_calculated = viterbi.calculated_values\n",
    "print(values_calculated)"
   ]
  },
  {
   "cell_type": "code",
   "execution_count": 3,
   "metadata": {
    "pycharm": {
     "name": "#%%\n"
    }
   },
   "outputs": [
    {
     "name": "stdout",
     "output_type": "stream",
     "text": [
      "[['H' 'H' 'H' 'L' 'L' 'L' 'L' 'L']\n",
      " ['H' 'H' 'H' 'L' 'H' 'L' 'H' 'L']]\n"
     ]
    }
   ],
   "source": [
    "decisions = viterbi.decisions\n",
    "decisions_made = np.chararray((len(decisions), len(decisions[0])), unicode=True)\n",
    "\n",
    "for i in range(len(decisions)):\n",
    "    for j in range (len(decisions[0])):\n",
    "        decisions_made[i][j] = S[decisions[i][j]]\n",
    "\n",
    "print(decisions_made)"
   ]
  },
  {
   "cell_type": "code",
   "execution_count": 4,
   "metadata": {
    "pycharm": {
     "name": "#%%\n"
    }
   },
   "outputs": [
    {
     "name": "stdout",
     "output_type": "stream",
     "text": [
      "[['H' 'H' 'H' 'L' 'L' 'L' 'L' 'L' 'L']]\n"
     ]
    }
   ],
   "source": [
    "most_probable_path = viterbi.sequence\n",
    "print(most_probable_path)"
   ]
  }
 ],
 "metadata": {
  "kernelspec": {
   "display_name": "Python 3",
   "language": "python",
   "name": "python3"
  },
  "language_info": {
   "codemirror_mode": {
    "name": "ipython",
    "version": 3
   },
   "file_extension": ".py",
   "mimetype": "text/x-python",
   "name": "python",
   "nbconvert_exporter": "python",
   "pygments_lexer": "ipython3",
   "version": "3.8.5"
  }
 },
 "nbformat": 4,
 "nbformat_minor": 1
}